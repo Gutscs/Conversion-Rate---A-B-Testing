{
 "cells": [
  {
   "cell_type": "code",
   "execution_count": 2,
   "id": "4d4e26a4",
   "metadata": {
    "ExecuteTime": {
     "end_time": "2022-06-27T21:19:17.936999Z",
     "start_time": "2022-06-27T21:19:17.932998Z"
    }
   },
   "outputs": [],
   "source": [
    "#https://www.kaggle.com/datasets/zhangluyuan/ab-testing"
   ]
  },
  {
   "cell_type": "code",
   "execution_count": 3,
   "id": "6137a3e4",
   "metadata": {
    "ExecuteTime": {
     "end_time": "2022-06-27T21:19:17.953002Z",
     "start_time": "2022-06-27T21:19:17.937999Z"
    }
   },
   "outputs": [],
   "source": [
    "import math\n",
    "\n",
    "import pandas as pd\n",
    "import numpy  as np\n",
    "\n",
    "from statsmodels.stats import api as sms"
   ]
  },
  {
   "cell_type": "markdown",
   "id": "216ab248",
   "metadata": {},
   "source": [
    "# 1. Load Data"
   ]
  },
  {
   "cell_type": "code",
   "execution_count": 4,
   "id": "3ab3d88c",
   "metadata": {
    "ExecuteTime": {
     "end_time": "2022-06-27T21:19:18.297863Z",
     "start_time": "2022-06-27T21:19:17.954002Z"
    }
   },
   "outputs": [
    {
     "data": {
      "text/html": [
       "<div>\n",
       "<style scoped>\n",
       "    .dataframe tbody tr th:only-of-type {\n",
       "        vertical-align: middle;\n",
       "    }\n",
       "\n",
       "    .dataframe tbody tr th {\n",
       "        vertical-align: top;\n",
       "    }\n",
       "\n",
       "    .dataframe thead th {\n",
       "        text-align: right;\n",
       "    }\n",
       "</style>\n",
       "<table border=\"1\" class=\"dataframe\">\n",
       "  <thead>\n",
       "    <tr style=\"text-align: right;\">\n",
       "      <th></th>\n",
       "      <th>user_id</th>\n",
       "      <th>timestamp</th>\n",
       "      <th>group</th>\n",
       "      <th>landing_page</th>\n",
       "      <th>converted</th>\n",
       "    </tr>\n",
       "  </thead>\n",
       "  <tbody>\n",
       "    <tr>\n",
       "      <th>0</th>\n",
       "      <td>851104</td>\n",
       "      <td>2017-01-21 22:11:48.556739</td>\n",
       "      <td>control</td>\n",
       "      <td>old_page</td>\n",
       "      <td>0</td>\n",
       "    </tr>\n",
       "    <tr>\n",
       "      <th>1</th>\n",
       "      <td>804228</td>\n",
       "      <td>2017-01-12 08:01:45.159739</td>\n",
       "      <td>control</td>\n",
       "      <td>old_page</td>\n",
       "      <td>0</td>\n",
       "    </tr>\n",
       "    <tr>\n",
       "      <th>2</th>\n",
       "      <td>661590</td>\n",
       "      <td>2017-01-11 16:55:06.154213</td>\n",
       "      <td>treatment</td>\n",
       "      <td>new_page</td>\n",
       "      <td>0</td>\n",
       "    </tr>\n",
       "    <tr>\n",
       "      <th>3</th>\n",
       "      <td>853541</td>\n",
       "      <td>2017-01-08 18:28:03.143765</td>\n",
       "      <td>treatment</td>\n",
       "      <td>new_page</td>\n",
       "      <td>0</td>\n",
       "    </tr>\n",
       "    <tr>\n",
       "      <th>4</th>\n",
       "      <td>864975</td>\n",
       "      <td>2017-01-21 01:52:26.210827</td>\n",
       "      <td>control</td>\n",
       "      <td>old_page</td>\n",
       "      <td>1</td>\n",
       "    </tr>\n",
       "  </tbody>\n",
       "</table>\n",
       "</div>"
      ],
      "text/plain": [
       "   user_id                   timestamp      group landing_page  converted\n",
       "0   851104  2017-01-21 22:11:48.556739    control     old_page          0\n",
       "1   804228  2017-01-12 08:01:45.159739    control     old_page          0\n",
       "2   661590  2017-01-11 16:55:06.154213  treatment     new_page          0\n",
       "3   853541  2017-01-08 18:28:03.143765  treatment     new_page          0\n",
       "4   864975  2017-01-21 01:52:26.210827    control     old_page          1"
      ]
     },
     "execution_count": 4,
     "metadata": {},
     "output_type": "execute_result"
    }
   ],
   "source": [
    "df_raw = pd.read_csv( 'data/ab_data.csv' )\n",
    "df_raw.head()"
   ]
  },
  {
   "cell_type": "markdown",
   "id": "92ce790f",
   "metadata": {},
   "source": [
    "# 2.2. Experiment Parameters"
   ]
  },
  {
   "cell_type": "code",
   "execution_count": 5,
   "id": "72cab896",
   "metadata": {
    "ExecuteTime": {
     "end_time": "2022-06-27T21:19:18.313776Z",
     "start_time": "2022-06-27T21:19:18.299879Z"
    }
   },
   "outputs": [],
   "source": [
    "# confidence level\n",
    "conf_level = 0.95\n",
    "\n",
    "# significance level\n",
    "sig_level = 1 - conf_level\n",
    "\n",
    "# effect size\n",
    "p1 = 0.13\n",
    "p2 = 0.15\n",
    "\n",
    "eff_size = sms.proportion_effectsize(p1, p2)\n",
    "\n",
    "# Statistical power\n",
    "power = 0.8"
   ]
  },
  {
   "cell_type": "code",
   "execution_count": 6,
   "id": "d431f0d4",
   "metadata": {
    "ExecuteTime": {
     "end_time": "2022-06-27T21:19:18.328949Z",
     "start_time": "2022-06-27T21:19:18.314777Z"
    }
   },
   "outputs": [
    {
     "name": "stdout",
     "output_type": "stream",
     "text": [
      "The sample size for the control and tratment group is 4720.\n",
      "The total sample size is 9440.\n"
     ]
    }
   ],
   "source": [
    "# sample size\n",
    "sample_n = sms.NormalIndPower().solve_power(\n",
    "    effect_size=eff_size,\n",
    "    power=power,\n",
    "    alpha=sig_level\n",
    ")\n",
    "\n",
    "sample_n = math.ceil( sample_n )\n",
    "print( 'The sample size for the control and tratment group is {}.'.format(sample_n) )\n",
    "print( 'The total sample size is {}.'.format(2*sample_n) )"
   ]
  },
  {
   "cell_type": "markdown",
   "id": "14e4a66c",
   "metadata": {},
   "source": [
    "# 3. Data Preparation"
   ]
  },
  {
   "cell_type": "markdown",
   "id": "c3e46256",
   "metadata": {
    "heading_collapsed": true
   },
   "source": [
    "## 3.1. Descriptive Analysis"
   ]
  },
  {
   "cell_type": "markdown",
   "id": "59577229",
   "metadata": {
    "hidden": true
   },
   "source": [
    "### 3.1.1. Data Dimenstions"
   ]
  },
  {
   "cell_type": "code",
   "execution_count": 7,
   "id": "e6ca7aee",
   "metadata": {
    "ExecuteTime": {
     "end_time": "2022-06-27T21:19:18.344954Z",
     "start_time": "2022-06-27T21:19:18.329950Z"
    },
    "hidden": true
   },
   "outputs": [
    {
     "name": "stdout",
     "output_type": "stream",
     "text": [
      "Number of rows: 294478\n",
      "Number of columns: 5\n"
     ]
    }
   ],
   "source": [
    "print( 'Number of rows: {}'.format(df_raw.shape[0]) )\n",
    "print( 'Number of columns: {}'.format(df_raw.shape[1]) )"
   ]
  },
  {
   "cell_type": "markdown",
   "id": "c7a07120",
   "metadata": {
    "hidden": true
   },
   "source": [
    "### 3.1.2. Check NA"
   ]
  },
  {
   "cell_type": "code",
   "execution_count": 8,
   "id": "9127a441",
   "metadata": {
    "ExecuteTime": {
     "end_time": "2022-06-27T21:19:18.392646Z",
     "start_time": "2022-06-27T21:19:18.345953Z"
    },
    "hidden": true
   },
   "outputs": [
    {
     "data": {
      "text/plain": [
       "user_id         0\n",
       "timestamp       0\n",
       "group           0\n",
       "landing_page    0\n",
       "converted       0\n",
       "dtype: int64"
      ]
     },
     "execution_count": 8,
     "metadata": {},
     "output_type": "execute_result"
    }
   ],
   "source": [
    "df_raw.isna().sum()"
   ]
  },
  {
   "cell_type": "markdown",
   "id": "33e10a4c",
   "metadata": {
    "hidden": true
   },
   "source": [
    "### 3.1.3. Check Flags"
   ]
  },
  {
   "cell_type": "code",
   "execution_count": 9,
   "id": "d8391794",
   "metadata": {
    "ExecuteTime": {
     "end_time": "2022-06-27T21:19:18.455666Z",
     "start_time": "2022-06-27T21:19:18.393647Z"
    },
    "hidden": true
   },
   "outputs": [
    {
     "data": {
      "text/html": [
       "<div>\n",
       "<style scoped>\n",
       "    .dataframe tbody tr th:only-of-type {\n",
       "        vertical-align: middle;\n",
       "    }\n",
       "\n",
       "    .dataframe tbody tr th {\n",
       "        vertical-align: top;\n",
       "    }\n",
       "\n",
       "    .dataframe thead th {\n",
       "        text-align: right;\n",
       "    }\n",
       "</style>\n",
       "<table border=\"1\" class=\"dataframe\">\n",
       "  <thead>\n",
       "    <tr style=\"text-align: right;\">\n",
       "      <th></th>\n",
       "      <th>group</th>\n",
       "      <th>landing_page</th>\n",
       "      <th>user_id</th>\n",
       "    </tr>\n",
       "  </thead>\n",
       "  <tbody>\n",
       "    <tr>\n",
       "      <th>0</th>\n",
       "      <td>control</td>\n",
       "      <td>new_page</td>\n",
       "      <td>1928</td>\n",
       "    </tr>\n",
       "    <tr>\n",
       "      <th>1</th>\n",
       "      <td>control</td>\n",
       "      <td>old_page</td>\n",
       "      <td>145274</td>\n",
       "    </tr>\n",
       "    <tr>\n",
       "      <th>2</th>\n",
       "      <td>treatment</td>\n",
       "      <td>new_page</td>\n",
       "      <td>145311</td>\n",
       "    </tr>\n",
       "    <tr>\n",
       "      <th>3</th>\n",
       "      <td>treatment</td>\n",
       "      <td>old_page</td>\n",
       "      <td>1965</td>\n",
       "    </tr>\n",
       "  </tbody>\n",
       "</table>\n",
       "</div>"
      ],
      "text/plain": [
       "       group landing_page  user_id\n",
       "0    control     new_page     1928\n",
       "1    control     old_page   145274\n",
       "2  treatment     new_page   145311\n",
       "3  treatment     old_page     1965"
      ]
     },
     "execution_count": 9,
     "metadata": {},
     "output_type": "execute_result"
    }
   ],
   "source": [
    "# Number of users by group/landing_page\n",
    "df_raw[['user_id', 'group', 'landing_page']].groupby( ['group', 'landing_page'] ).count().reset_index()"
   ]
  },
  {
   "cell_type": "code",
   "execution_count": 10,
   "id": "4dcb4b54",
   "metadata": {
    "ExecuteTime": {
     "end_time": "2022-06-27T21:19:18.567690Z",
     "start_time": "2022-06-27T21:19:18.456665Z"
    },
    "hidden": true
   },
   "outputs": [
    {
     "data": {
      "text/html": [
       "<div>\n",
       "<style scoped>\n",
       "    .dataframe tbody tr th:only-of-type {\n",
       "        vertical-align: middle;\n",
       "    }\n",
       "\n",
       "    .dataframe tbody tr th {\n",
       "        vertical-align: top;\n",
       "    }\n",
       "\n",
       "    .dataframe thead th {\n",
       "        text-align: right;\n",
       "    }\n",
       "</style>\n",
       "<table border=\"1\" class=\"dataframe\">\n",
       "  <thead>\n",
       "    <tr style=\"text-align: right;\">\n",
       "      <th></th>\n",
       "      <th>user_id</th>\n",
       "      <th>group</th>\n",
       "    </tr>\n",
       "  </thead>\n",
       "  <tbody>\n",
       "    <tr>\n",
       "      <th>43</th>\n",
       "      <td>630052</td>\n",
       "      <td>2</td>\n",
       "    </tr>\n",
       "    <tr>\n",
       "      <th>111</th>\n",
       "      <td>630126</td>\n",
       "      <td>2</td>\n",
       "    </tr>\n",
       "    <tr>\n",
       "      <th>122</th>\n",
       "      <td>630137</td>\n",
       "      <td>2</td>\n",
       "    </tr>\n",
       "    <tr>\n",
       "      <th>281</th>\n",
       "      <td>630320</td>\n",
       "      <td>2</td>\n",
       "    </tr>\n",
       "    <tr>\n",
       "      <th>420</th>\n",
       "      <td>630471</td>\n",
       "      <td>2</td>\n",
       "    </tr>\n",
       "    <tr>\n",
       "      <th>...</th>\n",
       "      <td>...</td>\n",
       "      <td>...</td>\n",
       "    </tr>\n",
       "    <tr>\n",
       "      <th>290244</th>\n",
       "      <td>945627</td>\n",
       "      <td>2</td>\n",
       "    </tr>\n",
       "    <tr>\n",
       "      <th>290259</th>\n",
       "      <td>945645</td>\n",
       "      <td>2</td>\n",
       "    </tr>\n",
       "    <tr>\n",
       "      <th>290315</th>\n",
       "      <td>945703</td>\n",
       "      <td>2</td>\n",
       "    </tr>\n",
       "    <tr>\n",
       "      <th>290399</th>\n",
       "      <td>945797</td>\n",
       "      <td>2</td>\n",
       "    </tr>\n",
       "    <tr>\n",
       "      <th>290556</th>\n",
       "      <td>945971</td>\n",
       "      <td>2</td>\n",
       "    </tr>\n",
       "  </tbody>\n",
       "</table>\n",
       "<p>3894 rows × 2 columns</p>\n",
       "</div>"
      ],
      "text/plain": [
       "        user_id  group\n",
       "43       630052      2\n",
       "111      630126      2\n",
       "122      630137      2\n",
       "281      630320      2\n",
       "420      630471      2\n",
       "...         ...    ...\n",
       "290244   945627      2\n",
       "290259   945645      2\n",
       "290315   945703      2\n",
       "290399   945797      2\n",
       "290556   945971      2\n",
       "\n",
       "[3894 rows x 2 columns]"
      ]
     },
     "execution_count": 10,
     "metadata": {},
     "output_type": "execute_result"
    }
   ],
   "source": [
    "# Number of duplicated users\n",
    "df_raw[['user_id', 'group']].groupby( 'user_id' ).count().reset_index().query( 'group > 1' )"
   ]
  },
  {
   "cell_type": "code",
   "execution_count": 11,
   "id": "6bb43e3d",
   "metadata": {
    "ExecuteTime": {
     "end_time": "2022-06-27T21:19:18.725728Z",
     "start_time": "2022-06-27T21:19:18.569690Z"
    },
    "hidden": true
   },
   "outputs": [
    {
     "data": {
      "text/plain": [
       "(286690, 5)"
      ]
     },
     "execution_count": 11,
     "metadata": {},
     "output_type": "execute_result"
    }
   ],
   "source": [
    "# delete duplicated users\n",
    "df_user_delete = df_raw[['user_id', 'group']].groupby( 'user_id' ).count().reset_index().query( 'group > 1' )['user_id']\n",
    "\n",
    "df1 = df_raw[~df_raw['user_id'].isin( df_user_delete )]\n",
    "df1.shape"
   ]
  },
  {
   "cell_type": "code",
   "execution_count": 12,
   "id": "64d2ebb0",
   "metadata": {
    "ExecuteTime": {
     "end_time": "2022-06-27T21:19:18.805744Z",
     "start_time": "2022-06-27T21:19:18.727726Z"
    },
    "hidden": true
   },
   "outputs": [
    {
     "data": {
      "text/html": [
       "<div>\n",
       "<style scoped>\n",
       "    .dataframe tbody tr th:only-of-type {\n",
       "        vertical-align: middle;\n",
       "    }\n",
       "\n",
       "    .dataframe tbody tr th {\n",
       "        vertical-align: top;\n",
       "    }\n",
       "\n",
       "    .dataframe thead th {\n",
       "        text-align: right;\n",
       "    }\n",
       "</style>\n",
       "<table border=\"1\" class=\"dataframe\">\n",
       "  <thead>\n",
       "    <tr style=\"text-align: right;\">\n",
       "      <th></th>\n",
       "      <th>group</th>\n",
       "      <th>landing_page</th>\n",
       "      <th>user_id</th>\n",
       "    </tr>\n",
       "  </thead>\n",
       "  <tbody>\n",
       "    <tr>\n",
       "      <th>0</th>\n",
       "      <td>control</td>\n",
       "      <td>old_page</td>\n",
       "      <td>143293</td>\n",
       "    </tr>\n",
       "    <tr>\n",
       "      <th>1</th>\n",
       "      <td>treatment</td>\n",
       "      <td>new_page</td>\n",
       "      <td>143397</td>\n",
       "    </tr>\n",
       "  </tbody>\n",
       "</table>\n",
       "</div>"
      ],
      "text/plain": [
       "       group landing_page  user_id\n",
       "0    control     old_page   143293\n",
       "1  treatment     new_page   143397"
      ]
     },
     "execution_count": 12,
     "metadata": {},
     "output_type": "execute_result"
    }
   ],
   "source": [
    "# Number of users by group/landing_page\n",
    "df1[['user_id', 'group', 'landing_page']].groupby( ['group', 'landing_page'] ).count().reset_index()"
   ]
  },
  {
   "cell_type": "markdown",
   "id": "ddb0842b",
   "metadata": {},
   "source": [
    "## 3.2. Random Sampling"
   ]
  },
  {
   "cell_type": "code",
   "execution_count": 13,
   "id": "e4621e30",
   "metadata": {
    "ExecuteTime": {
     "end_time": "2022-06-27T21:19:18.901765Z",
     "start_time": "2022-06-27T21:19:18.806744Z"
    }
   },
   "outputs": [
    {
     "name": "stdout",
     "output_type": "stream",
     "text": [
      "Size of Control Group: 4720\n",
      "Size of Treatment Group: 4720\n"
     ]
    }
   ],
   "source": [
    "# control group\n",
    "df_control_sample = df1[df1['group'] == 'control'].sample( n=sample_n, random_state=42 )\n",
    "print(  'Size of Control Group: {}'.format( df_control_sample.shape[0] ) )\n",
    "\n",
    "# treatment group\n",
    "df_treatment_sample = df1[df1['group'] == 'treatment'].sample( n=sample_n, random_state=42 )\n",
    "print(  'Size of Treatment Group: {}'.format( df_treatment_sample.shape[0] ) )\n",
    "\n",
    "# concat\n",
    "df_ab = pd.concat( [df_control_sample, df_treatment_sample] ).reset_index( drop=True )"
   ]
  },
  {
   "cell_type": "markdown",
   "id": "69aa399e",
   "metadata": {},
   "source": [
    "# 3.3. Metric of interest"
   ]
  },
  {
   "cell_type": "code",
   "execution_count": 16,
   "id": "ea34a87e",
   "metadata": {
    "ExecuteTime": {
     "end_time": "2022-06-27T21:29:45.844136Z",
     "start_time": "2022-06-27T21:29:45.831132Z"
    }
   },
   "outputs": [
    {
     "name": "stdout",
     "output_type": "stream",
     "text": [
      "Conversion rate - Control Group: 0.1155\n"
     ]
    }
   ],
   "source": [
    "# conversion rate control group\n",
    "sales = df_control_sample.loc[df_control_sample['converted'] == 1, 'converted'].sum()\n",
    "visit = df_control_sample.shape[0]\n",
    "\n",
    "conversion_rate_control = sales / visit\n",
    "print( 'Conversion rate - Control Group: {:.4f}'.format( conversion_rate_control ) )"
   ]
  },
  {
   "cell_type": "code",
   "execution_count": 18,
   "id": "f18a348c",
   "metadata": {
    "ExecuteTime": {
     "end_time": "2022-06-27T21:30:32.937750Z",
     "start_time": "2022-06-27T21:30:32.928749Z"
    }
   },
   "outputs": [
    {
     "name": "stdout",
     "output_type": "stream",
     "text": [
      "Conversion rate - Treatment Group: 0.1290\n"
     ]
    }
   ],
   "source": [
    "# conversion rate treatment group\n",
    "sales = df_treatment_sample.loc[df_treatment_sample['converted'] == 1, 'converted'].sum()\n",
    "visit = df_treatment_sample.shape[0]\n",
    "\n",
    "conversion_rate_treatment = sales / visit\n",
    "print( 'Conversion rate - Treatment Group: {:.4f}'.format( conversion_rate_treatment ) )"
   ]
  },
  {
   "cell_type": "code",
   "execution_count": null,
   "id": "d66c44eb",
   "metadata": {},
   "outputs": [],
   "source": []
  },
  {
   "cell_type": "code",
   "execution_count": null,
   "id": "4c38a005",
   "metadata": {},
   "outputs": [],
   "source": []
  }
 ],
 "metadata": {
  "kernelspec": {
   "display_name": "Python 3 (ipykernel)",
   "language": "python",
   "name": "python3"
  },
  "language_info": {
   "codemirror_mode": {
    "name": "ipython",
    "version": 3
   },
   "file_extension": ".py",
   "mimetype": "text/x-python",
   "name": "python",
   "nbconvert_exporter": "python",
   "pygments_lexer": "ipython3",
   "version": "3.9.7"
  }
 },
 "nbformat": 4,
 "nbformat_minor": 5
}

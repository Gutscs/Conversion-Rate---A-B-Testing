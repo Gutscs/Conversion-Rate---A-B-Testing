{
 "cells": [
  {
   "cell_type": "code",
   "execution_count": 5,
   "id": "8e09e144",
   "metadata": {
    "ExecuteTime": {
     "end_time": "2022-07-01T02:11:19.727960Z",
     "start_time": "2022-07-01T02:11:19.691547Z"
    }
   },
   "outputs": [],
   "source": [
    "import numpy   as np\n",
    "import pandas  as pd\n",
    "import seaborn as sns\n",
    "\n",
    "from scipy.stats import ttest_1samp, shapiro, mannwhitneyu, f_oneway\n",
    "from statsmodels.stats.multicomp import pairwise_tukeyhsd"
   ]
  },
  {
   "cell_type": "markdown",
   "id": "1213731a",
   "metadata": {},
   "source": [
    "# **Parametric Conditions**"
   ]
  },
  {
   "cell_type": "markdown",
   "id": "5654668c",
   "metadata": {},
   "source": [
    "**1. Independent samples**\n",
    "\n",
    "**2. Normally distributed**\n",
    "\n",
    "* Shapiro–Wilk test: H0 - Normally distributed\n",
    " * if p-value < alpha: It is not normally distributed\n",
    "    \n",
    "**3. Equal variances**\n",
    "\n",
    "* var1/var2 > 4 or var2/var1 > 4- different variances "
   ]
  },
  {
   "cell_type": "markdown",
   "id": "e61a9267",
   "metadata": {
    "heading_collapsed": true
   },
   "source": [
    "# One-Sample Test"
   ]
  },
  {
   "cell_type": "code",
   "execution_count": 1,
   "id": "c1d8b514",
   "metadata": {
    "hidden": true
   },
   "outputs": [],
   "source": [
    "df = [14, 14, 16, 13, 12, 17, 15, 14, 15, 13, 15, 14]\n",
    "\n",
    "# Average height of plant species: 15cm\n",
    "# H0: u1 = 15cm  (The fertilizer did not affect the height of the plants)  \n",
    "# H1: u1 <> 15cm  "
   ]
  },
  {
   "cell_type": "code",
   "execution_count": 8,
   "id": "2122e813",
   "metadata": {
    "hidden": true
   },
   "outputs": [
    {
     "name": "stdout",
     "output_type": "stream",
     "text": [
      "p-value: 0.12\n",
      "\n",
      "Failure to reject the null hypothesis\n"
     ]
    }
   ],
   "source": [
    "alpha=0.05\n",
    "statistics, pvalue = ttest_1samp( df, popmean=15 )\n",
    "print( 'p-value: {:.2f}'.format( pvalue ) )\n",
    "\n",
    "if pvalue < alpha:\n",
    "    print( '\\nReject the null hypothesis' )\n",
    "else:\n",
    "    print( '\\nFailure to reject the null hypothesis' )"
   ]
  },
  {
   "cell_type": "markdown",
   "id": "7e56c09c",
   "metadata": {
    "heading_collapsed": true
   },
   "source": [
    "# Two-Sample Test (Parametric conditions satisfied)"
   ]
  },
  {
   "cell_type": "code",
   "execution_count": 10,
   "id": "72e80095",
   "metadata": {
    "hidden": true
   },
   "outputs": [],
   "source": [
    "df1 = [14, 15, 15, 16, 13, 8, 14, 17, 16, 14, 19, 20, 21, 15, 15, 16, 16, 13, 14, 12]\n",
    "df2 = [15, 17, 14, 17, 14, 8, 12, 19, 19, 14, 17, 22, 24, 16, 13, 16, 13, 18, 15, 13]\n",
    "\n",
    "# H0:  u1 = u2 (The average of the heights without fertilizer and with fertilizer are the equal) \n",
    "# H1: u1 <> u2"
   ]
  },
  {
   "cell_type": "code",
   "execution_count": 12,
   "id": "26b078e1",
   "metadata": {
    "hidden": true
   },
   "outputs": [
    {
     "name": "stdout",
     "output_type": "stream",
     "text": [
      "p-value 1: 0.2267775684595108\n",
      "p-value 2: 0.6782065033912659\n",
      "\n",
      "Var 1: 7.73\n",
      "Var 2: 12.26\n",
      "(Var 2)/(Var 1): 1.59\n"
     ]
    }
   ],
   "source": [
    "tats1, pvalue1 = shapiro( df1 )\n",
    "print( 'p-value 1: {}'.format( pvalue1 ) )\n",
    "\n",
    "tats2, pvalue2 = shapiro( df2 )\n",
    "print( 'p-value 2: {}'.format( pvalue2 ) )\n",
    "\n",
    "var1 = np.var(df1)\n",
    "print( '\\nVar 1: {:.2f}'.format( var1 ) )\n",
    "\n",
    "var2 = np.var(df2)\n",
    "print( 'Var 2: {:.2f}'.format( var2 ) )\n",
    "\n",
    "dvar, strvar = (var1/var2, '(Var 1)/(Var 2)') if var1 > var2 else (var2/var1, '(Var 2)/(Var 1)')\n",
    "print( '{}: {:.2f}'.format(strvar, dvar) )"
   ]
  },
  {
   "cell_type": "markdown",
   "id": "189331e1",
   "metadata": {
    "hidden": true
   },
   "source": [
    "1. OK\n",
    "2. OK\n",
    "3. OK\n",
    "\n",
    "**We can use the Two-Sample Test**"
   ]
  },
  {
   "cell_type": "code",
   "execution_count": 15,
   "id": "7b6b2194",
   "metadata": {
    "hidden": true
   },
   "outputs": [
    {
     "name": "stdout",
     "output_type": "stream",
     "text": [
      "p-value: 0.6236782365071114\n",
      "\n",
      "Failure to reject the null hypothesis\n"
     ]
    }
   ],
   "source": [
    "alpha=0.05\n",
    "stats, pvalue = mannwhitneyu( df1, df2 )\n",
    "print( 'p-value: {}'.format( pvalue ) )\n",
    "\n",
    "if pvalue < alpha:\n",
    "    print( '\\nReject the null hypothesis' )\n",
    "else:\n",
    "    print( '\\nFailure to reject the null hypothesis' )"
   ]
  },
  {
   "cell_type": "markdown",
   "id": "8229235a",
   "metadata": {
    "heading_collapsed": true
   },
   "source": [
    "# Mann-Whitney U-test (Parametric conditions not satisfied)"
   ]
  },
  {
   "cell_type": "code",
   "execution_count": 4,
   "id": "f6770cf0",
   "metadata": {
    "ExecuteTime": {
     "end_time": "2022-07-01T01:17:23.435662Z",
     "start_time": "2022-07-01T01:17:23.428563Z"
    },
    "hidden": true
   },
   "outputs": [],
   "source": [
    "df1 = [20, 23, 21, 20, 18, 17, 18, 14, 20, 24, 43, 19]\n",
    "df2 = [24, 25, 21, 22, 23, 18, 17, 28, 24, 27, 21, 23]\n",
    "\n",
    "# H0:  u1 = u2 (The average of the heights without fertilizer and with fertilizer are the equal) \n",
    "# H1: u1 <> u2"
   ]
  },
  {
   "cell_type": "code",
   "execution_count": 15,
   "id": "6b23a15d",
   "metadata": {
    "ExecuteTime": {
     "end_time": "2022-07-01T01:25:07.393645Z",
     "start_time": "2022-07-01T01:25:07.378183Z"
    },
    "hidden": true
   },
   "outputs": [
    {
     "name": "stdout",
     "output_type": "stream",
     "text": [
      "p-value 1: 0.0005459139938466251\n",
      "p-value 2: 0.9021514058113098\n",
      "\n",
      "Var 1: 48.74\n",
      "Var 2: 9.69\n",
      "(Var 1)/(Var 2): 5.03\n"
     ]
    }
   ],
   "source": [
    "tats1, pvalue1 = shapiro( df1 )\n",
    "print( 'p-value 1: {}'.format( pvalue1 ) )\n",
    "\n",
    "stats2, pvalue2 = shapiro( df2 )\n",
    "print( 'p-value 2: {}'.format( pvalue2 ) )\n",
    "\n",
    "var1 = np.var(df1)\n",
    "print( '\\nVar 1: {:.2f}'.format( var1 ) )\n",
    "\n",
    "var2 = np.var(df2)\n",
    "print( 'Var 2: {:.2f}'.format( var2 ) )\n",
    "\n",
    "dvar, strvar = (var1/var2, '(Var 1)/(Var 2)') if var1 > var2 else (var2/var1, '(Var 2)/(Var 1)')\n",
    "print( '{}: {:.2f}'.format(strvar, dvar) )"
   ]
  },
  {
   "cell_type": "markdown",
   "id": "31d4122e",
   "metadata": {
    "hidden": true
   },
   "source": [
    "1. OK\n",
    "2. Not OK - df1 is not normally distributed\n",
    "3. Not OK - The variances are different\n",
    "\n",
    "**We can use the Mann-Whitney U-test**"
   ]
  },
  {
   "cell_type": "code",
   "execution_count": 19,
   "id": "7b460bd9",
   "metadata": {
    "ExecuteTime": {
     "end_time": "2022-07-01T01:29:28.773046Z",
     "start_time": "2022-07-01T01:29:28.754038Z"
    },
    "hidden": true
   },
   "outputs": [
    {
     "name": "stdout",
     "output_type": "stream",
     "text": [
      "p-value: 0.07217495133598324\n",
      "\n",
      "Failure to reject the null hypothesis\n"
     ]
    }
   ],
   "source": [
    "alpha=0.05\n",
    "stats, pvalue = mannwhitneyu( df1, df2 )\n",
    "print( 'p-value: {}'.format( pvalue ) )\n",
    "\n",
    "if pvalue < alpha:\n",
    "    print( '\\nReject the null hypothesis' )\n",
    "else:\n",
    "    print( '\\nFailure to reject the null hypothesis' )"
   ]
  },
  {
   "cell_type": "markdown",
   "id": "44223fca",
   "metadata": {
    "heading_collapsed": true
   },
   "source": [
    "# One Way ANOVA"
   ]
  },
  {
   "cell_type": "markdown",
   "id": "cb4a663d",
   "metadata": {
    "hidden": true
   },
   "source": [
    "Researchers would like to know if there is a difference between the means obtained with 4 different treatments."
   ]
  },
  {
   "cell_type": "code",
   "execution_count": 53,
   "id": "9b0551a2",
   "metadata": {
    "ExecuteTime": {
     "end_time": "2022-07-01T02:09:35.361069Z",
     "start_time": "2022-07-01T02:09:35.345063Z"
    },
    "hidden": true
   },
   "outputs": [],
   "source": [
    "df = pd.DataFrame( {'A':[25, 30, 28, 36, 29], \n",
    "                    'B':[45, 55, 29, 56, 40],\n",
    "                    'C':[30, 29, 33, 37, 27],\n",
    "                    'D':[54, 60, 51, 62, 73]})\n",
    "\n",
    "# H0: uA = uB = uC = uD \n",
    "# H1: There is a difference"
   ]
  },
  {
   "cell_type": "code",
   "execution_count": 47,
   "id": "4ea8bc81",
   "metadata": {
    "ExecuteTime": {
     "end_time": "2022-07-01T02:06:28.060879Z",
     "start_time": "2022-07-01T02:06:28.042875Z"
    },
    "hidden": true
   },
   "outputs": [
    {
     "data": {
      "text/html": [
       "<div>\n",
       "<style scoped>\n",
       "    .dataframe tbody tr th:only-of-type {\n",
       "        vertical-align: middle;\n",
       "    }\n",
       "\n",
       "    .dataframe tbody tr th {\n",
       "        vertical-align: top;\n",
       "    }\n",
       "\n",
       "    .dataframe thead th {\n",
       "        text-align: right;\n",
       "    }\n",
       "</style>\n",
       "<table border=\"1\" class=\"dataframe\">\n",
       "  <thead>\n",
       "    <tr style=\"text-align: right;\">\n",
       "      <th></th>\n",
       "      <th>index</th>\n",
       "      <th>treatment</th>\n",
       "      <th>value</th>\n",
       "    </tr>\n",
       "  </thead>\n",
       "  <tbody>\n",
       "    <tr>\n",
       "      <th>0</th>\n",
       "      <td>0</td>\n",
       "      <td>A</td>\n",
       "      <td>25</td>\n",
       "    </tr>\n",
       "    <tr>\n",
       "      <th>1</th>\n",
       "      <td>1</td>\n",
       "      <td>A</td>\n",
       "      <td>30</td>\n",
       "    </tr>\n",
       "    <tr>\n",
       "      <th>2</th>\n",
       "      <td>2</td>\n",
       "      <td>A</td>\n",
       "      <td>28</td>\n",
       "    </tr>\n",
       "    <tr>\n",
       "      <th>3</th>\n",
       "      <td>3</td>\n",
       "      <td>A</td>\n",
       "      <td>36</td>\n",
       "    </tr>\n",
       "    <tr>\n",
       "      <th>4</th>\n",
       "      <td>4</td>\n",
       "      <td>A</td>\n",
       "      <td>29</td>\n",
       "    </tr>\n",
       "    <tr>\n",
       "      <th>5</th>\n",
       "      <td>0</td>\n",
       "      <td>B</td>\n",
       "      <td>45</td>\n",
       "    </tr>\n",
       "    <tr>\n",
       "      <th>6</th>\n",
       "      <td>1</td>\n",
       "      <td>B</td>\n",
       "      <td>55</td>\n",
       "    </tr>\n",
       "    <tr>\n",
       "      <th>7</th>\n",
       "      <td>2</td>\n",
       "      <td>B</td>\n",
       "      <td>29</td>\n",
       "    </tr>\n",
       "    <tr>\n",
       "      <th>8</th>\n",
       "      <td>3</td>\n",
       "      <td>B</td>\n",
       "      <td>56</td>\n",
       "    </tr>\n",
       "    <tr>\n",
       "      <th>9</th>\n",
       "      <td>4</td>\n",
       "      <td>B</td>\n",
       "      <td>40</td>\n",
       "    </tr>\n",
       "  </tbody>\n",
       "</table>\n",
       "</div>"
      ],
      "text/plain": [
       "   index treatment  value\n",
       "0      0         A     25\n",
       "1      1         A     30\n",
       "2      2         A     28\n",
       "3      3         A     36\n",
       "4      4         A     29\n",
       "5      0         B     45\n",
       "6      1         B     55\n",
       "7      2         B     29\n",
       "8      3         B     56\n",
       "9      4         B     40"
      ]
     },
     "execution_count": 47,
     "metadata": {},
     "output_type": "execute_result"
    }
   ],
   "source": [
    "df_melt = pd.melt( df.reset_index(), id_vars=['index'], value_vars=['A', 'B', 'C', 'D'] )\n",
    "df_melt.columns = ['index', 'treatment', 'value']\n",
    "df_melt.head(10)"
   ]
  },
  {
   "cell_type": "code",
   "execution_count": 48,
   "id": "23adcd51",
   "metadata": {
    "ExecuteTime": {
     "end_time": "2022-07-01T02:06:29.105041Z",
     "start_time": "2022-07-01T02:06:29.008921Z"
    },
    "hidden": true
   },
   "outputs": [
    {
     "data": {
      "image/png": "[encoded data removed]",
      "text/plain": [
       "<Figure size 432x288 with 1 Axes>"
      ]
     },
     "metadata": {
      "needs_background": "light"
     },
     "output_type": "display_data"
    }
   ],
   "source": [
    "sns.boxplot( x='treatment', y='value', data=df_melt )\n",
    "sns.swarmplot( x='treatment', y='value', data=df_melt, color='b' );"
   ]
  },
  {
   "cell_type": "code",
   "execution_count": 49,
   "id": "45c32e8a",
   "metadata": {
    "ExecuteTime": {
     "end_time": "2022-07-01T02:06:30.105460Z",
     "start_time": "2022-07-01T02:06:30.093457Z"
    },
    "hidden": true
   },
   "outputs": [
    {
     "name": "stdout",
     "output_type": "stream",
     "text": [
      "pvalue - Group A: 0.6075581908226013\n",
      "pvalue - Group B: 0.5723667740821838\n",
      "pvalue - Group C: 0.7583119869232178\n",
      "pvalue - Group D: 0.7002365589141846\n",
      "\n",
      "variance - Group A: 13.04\n",
      "variance - Group B: 100.40\n",
      "variance - Group C: 12.16\n",
      "variance - Group D: 58.00\n"
     ]
    }
   ],
   "source": [
    "print( 'pvalue - Group A: {}'.format( shapiro( df['A'] )[1] ) )\n",
    "print( 'pvalue - Group B: {}'.format( shapiro( df['B'] )[1] ) )\n",
    "print( 'pvalue - Group C: {}'.format( shapiro( df['C'] )[1] ) )\n",
    "print( 'pvalue - Group D: {}'.format( shapiro( df['D'] )[1] ) )\n",
    "\n",
    "print( '\\nvariance - Group A: {:.2f}'.format( np.var( df['A'] ) ) )\n",
    "print( 'variance - Group B: {:.2f}'.format( np.var( df['B'] ) ) )\n",
    "print( 'variance - Group C: {:.2f}'.format( np.var( df['C'] ) ) )\n",
    "print( 'variance - Group D: {:.2f}'.format( np.var( df['D'] ) ) )"
   ]
  },
  {
   "cell_type": "code",
   "execution_count": 51,
   "id": "bf40c9cc",
   "metadata": {
    "ExecuteTime": {
     "end_time": "2022-07-01T02:07:15.991087Z",
     "start_time": "2022-07-01T02:07:15.979208Z"
    },
    "hidden": true
   },
   "outputs": [
    {
     "name": "stdout",
     "output_type": "stream",
     "text": [
      "p-value: 2.639241146210922e-05\n",
      "\n",
      "Reject the null hypothesis\n"
     ]
    }
   ],
   "source": [
    "alpha = 0.05\n",
    "stats, pvalue= f_oneway( df['A'], df['B'], df['C'], df['D'] )\n",
    "print( 'p-value: {}'.format(pvalue) )\n",
    "\n",
    "if pvalue < alpha:\n",
    "    print( '\\nReject the null hypothesis' )\n",
    "else:\n",
    "    print( '\\nFailure to reject the null hypothesis' )"
   ]
  },
  {
   "cell_type": "markdown",
   "id": "c2af4cf0",
   "metadata": {
    "hidden": true
   },
   "source": [
    "* But the variances are not equal, as we can notice"
   ]
  },
  {
   "cell_type": "code",
   "execution_count": 58,
   "id": "a43fef83",
   "metadata": {
    "ExecuteTime": {
     "end_time": "2022-07-01T02:12:18.626108Z",
     "start_time": "2022-07-01T02:12:18.374206Z"
    },
    "hidden": true
   },
   "outputs": [
    {
     "name": "stdout",
     "output_type": "stream",
     "text": [
      "Multiple Comparison of Means - Tukey HSD, FWER=0.05\n",
      "===================================================\n",
      "group1 group2 meandiff p-adj   lower  upper  reject\n",
      "---------------------------------------------------\n",
      "     A      B     15.4 0.0251   1.694 29.106   True\n",
      "     A      C      1.6 0.9867 -12.106 15.306  False\n",
      "     A      D     30.4 0.0001  16.694 44.106   True\n",
      "     B      C    -13.8 0.0482 -27.506 -0.094   True\n",
      "     B      D     15.0 0.0296   1.294 28.706   True\n",
      "     C      D     28.8 0.0001  15.094 42.506   True\n",
      "---------------------------------------------------\n"
     ]
    }
   ],
   "source": [
    "tukey = pairwise_tukeyhsd( endog=df_melt['value'], groups=df_melt['treatment'], alpha=alpha )\n",
    "print( tukey )"
   ]
  },
  {
   "cell_type": "markdown",
   "id": "7b628ea4",
   "metadata": {
    "hidden": true
   },
   "source": [
    "* We can't reject the null hypothesis considering the differences between A and C"
   ]
  }
 ],
 "metadata": {
  "kernelspec": {
   "display_name": "Python 3 (ipykernel)",
   "language": "python",
   "name": "python3"
  },
  "language_info": {
   "codemirror_mode": {
    "name": "ipython",
    "version": 3
   },
   "file_extension": ".py",
   "mimetype": "text/x-python",
   "name": "python",
   "nbconvert_exporter": "python",
   "pygments_lexer": "ipython3",
   "version": "3.8.13"
  }
 },
 "nbformat": 4,
 "nbformat_minor": 5
}

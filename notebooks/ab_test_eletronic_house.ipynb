{
 "cells": [
  {
   "cell_type": "markdown",
   "id": "a87cf704",
   "metadata": {
    "ExecuteTime": {
     "end_time": "2023-01-16T23:38:28.330978Z",
     "start_time": "2023-01-16T23:38:28.323154Z"
    }
   },
   "source": [
    "# 1. Imports"
   ]
  },
  {
   "cell_type": "code",
   "execution_count": 26,
   "id": "95ea873d",
   "metadata": {
    "ExecuteTime": {
     "end_time": "2023-01-18T00:32:10.408505Z",
     "start_time": "2023-01-18T00:32:10.399984Z"
    }
   },
   "outputs": [],
   "source": [
    "import pandas as pd\n",
    "import numpy as np\n",
    "import pingouin as pg\n",
    "\n",
    "import matplotlib.pyplot as plt\n",
    "import seaborn as sns\n",
    "\n",
    "from IPython.core.display    import HTML\n",
    "from IPython.display         import Image\n",
    "from statsmodels.stats       import api as sms"
   ]
  },
  {
   "cell_type": "markdown",
   "id": "17b02c6a",
   "metadata": {},
   "source": [
    "## 1.1. Helper Functions"
   ]
  },
  {
   "cell_type": "code",
   "execution_count": 2,
   "id": "324ff37a",
   "metadata": {
    "ExecuteTime": {
     "end_time": "2023-01-17T23:40:18.173330Z",
     "start_time": "2023-01-17T23:40:18.158436Z"
    }
   },
   "outputs": [],
   "source": [
    "def jupyter_settings():\n",
    "    %matplotlib inline\n",
    "    %pylab inline\n",
    "\n",
    "    plt.style.use( 'bmh' )\n",
    "    plt.rcParams['figure.figsize'] = [20,8]\n",
    "    plt.rcParams['font.size'] = 11\n",
    "\n",
    "    display( HTML( '<style>.container { width:80% !important; }</style>' ) )\n",
    "    pd.options.display.max_columns = None\n",
    "    pd.options.display.max_rows = None\n",
    "    pd.set_option( 'display.expand_frame_repr', False )\n",
    "    pd.set_option( 'display.max_columns', None )\n",
    "\n",
    "    sns.set_style(\"darkgrid\")\n",
    "    sns.set_palette(\"muted\")"
   ]
  },
  {
   "cell_type": "code",
   "execution_count": 3,
   "id": "c1cc17ef",
   "metadata": {
    "ExecuteTime": {
     "end_time": "2023-01-17T23:40:18.189355Z",
     "start_time": "2023-01-17T23:40:18.174334Z"
    }
   },
   "outputs": [
    {
     "name": "stdout",
     "output_type": "stream",
     "text": [
      "Populating the interactive namespace from numpy and matplotlib\n"
     ]
    },
    {
     "data": {
      "text/html": [
       "<style>.container { width:80% !important; }</style>"
      ],
      "text/plain": [
       "<IPython.core.display.HTML object>"
      ]
     },
     "metadata": {},
     "output_type": "display_data"
    }
   ],
   "source": [
    "jupyter_settings()"
   ]
  },
  {
   "cell_type": "markdown",
   "id": "10e564ae",
   "metadata": {},
   "source": [
    "## 1.2. Load Dataset"
   ]
  },
  {
   "cell_type": "code",
   "execution_count": 4,
   "id": "d105676f",
   "metadata": {
    "ExecuteTime": {
     "end_time": "2023-01-17T23:40:18.284623Z",
     "start_time": "2023-01-17T23:40:18.190356Z"
    }
   },
   "outputs": [],
   "source": [
    "df1 = pd.read_csv('../data/ab_testing.csv')"
   ]
  },
  {
   "cell_type": "code",
   "execution_count": 5,
   "id": "f6fbb52a",
   "metadata": {
    "ExecuteTime": {
     "end_time": "2023-01-17T23:40:18.300732Z",
     "start_time": "2023-01-17T23:40:18.285624Z"
    }
   },
   "outputs": [
    {
     "data": {
      "text/html": [
       "<div>\n",
       "<style scoped>\n",
       "    .dataframe tbody tr th:only-of-type {\n",
       "        vertical-align: middle;\n",
       "    }\n",
       "\n",
       "    .dataframe tbody tr th {\n",
       "        vertical-align: top;\n",
       "    }\n",
       "\n",
       "    .dataframe thead th {\n",
       "        text-align: right;\n",
       "    }\n",
       "</style>\n",
       "<table border=\"1\" class=\"dataframe\">\n",
       "  <thead>\n",
       "    <tr style=\"text-align: right;\">\n",
       "      <th></th>\n",
       "      <th>uid</th>\n",
       "      <th>country</th>\n",
       "      <th>gender</th>\n",
       "      <th>spent</th>\n",
       "      <th>purchases</th>\n",
       "      <th>date</th>\n",
       "      <th>group</th>\n",
       "      <th>device</th>\n",
       "    </tr>\n",
       "  </thead>\n",
       "  <tbody>\n",
       "    <tr>\n",
       "      <th>0</th>\n",
       "      <td>11115722</td>\n",
       "      <td>MEX</td>\n",
       "      <td>F</td>\n",
       "      <td>1595</td>\n",
       "      <td>5</td>\n",
       "      <td>2016-03-08</td>\n",
       "      <td>GRP B</td>\n",
       "      <td>I</td>\n",
       "    </tr>\n",
       "    <tr>\n",
       "      <th>1</th>\n",
       "      <td>11122053</td>\n",
       "      <td>USA</td>\n",
       "      <td>M</td>\n",
       "      <td>498</td>\n",
       "      <td>2</td>\n",
       "      <td>2017-07-14</td>\n",
       "      <td>GRP B</td>\n",
       "      <td>I</td>\n",
       "    </tr>\n",
       "    <tr>\n",
       "      <th>2</th>\n",
       "      <td>11128688</td>\n",
       "      <td>USA</td>\n",
       "      <td>F</td>\n",
       "      <td>2394</td>\n",
       "      <td>6</td>\n",
       "      <td>2017-09-17</td>\n",
       "      <td>GRP A</td>\n",
       "      <td>I</td>\n",
       "    </tr>\n",
       "    <tr>\n",
       "      <th>3</th>\n",
       "      <td>11130578</td>\n",
       "      <td>USA</td>\n",
       "      <td>F</td>\n",
       "      <td>1197</td>\n",
       "      <td>3</td>\n",
       "      <td>2017-11-30</td>\n",
       "      <td>GRP A</td>\n",
       "      <td>I</td>\n",
       "    </tr>\n",
       "    <tr>\n",
       "      <th>4</th>\n",
       "      <td>11130759</td>\n",
       "      <td>ESP</td>\n",
       "      <td>M</td>\n",
       "      <td>1297</td>\n",
       "      <td>3</td>\n",
       "      <td>2018-01-10</td>\n",
       "      <td>GRP B</td>\n",
       "      <td>A</td>\n",
       "    </tr>\n",
       "  </tbody>\n",
       "</table>\n",
       "</div>"
      ],
      "text/plain": [
       "        uid country gender  spent  purchases        date  group device\n",
       "0  11115722     MEX      F   1595          5  2016-03-08  GRP B      I\n",
       "1  11122053     USA      M    498          2  2017-07-14  GRP B      I\n",
       "2  11128688     USA      F   2394          6  2017-09-17  GRP A      I\n",
       "3  11130578     USA      F   1197          3  2017-11-30  GRP A      I\n",
       "4  11130759     ESP      M   1297          3  2018-01-10  GRP B      A"
      ]
     },
     "execution_count": 5,
     "metadata": {},
     "output_type": "execute_result"
    }
   ],
   "source": [
    "df1.head()"
   ]
  },
  {
   "cell_type": "markdown",
   "id": "5fb41098",
   "metadata": {},
   "source": [
    "# 2. Data Description"
   ]
  },
  {
   "cell_type": "code",
   "execution_count": 6,
   "id": "eca6589e",
   "metadata": {
    "ExecuteTime": {
     "end_time": "2023-01-17T23:40:18.316275Z",
     "start_time": "2023-01-17T23:40:18.301732Z"
    }
   },
   "outputs": [],
   "source": [
    "df2 = df1.copy()"
   ]
  },
  {
   "cell_type": "markdown",
   "id": "23095f75",
   "metadata": {},
   "source": [
    "## 2.1. Data Dimensions"
   ]
  },
  {
   "cell_type": "code",
   "execution_count": 7,
   "id": "253d05eb",
   "metadata": {
    "ExecuteTime": {
     "end_time": "2023-01-17T23:40:18.331873Z",
     "start_time": "2023-01-17T23:40:18.317278Z"
    }
   },
   "outputs": [
    {
     "name": "stdout",
     "output_type": "stream",
     "text": [
      "Number of rows: 45883\n",
      "Number of columns: 8\n"
     ]
    }
   ],
   "source": [
    "print('Number of rows: {0}'.format(df2.shape[0]))\n",
    "print('Number of columns: {0}'.format(df2.shape[1]))"
   ]
  },
  {
   "cell_type": "markdown",
   "id": "e3c9d28f",
   "metadata": {},
   "source": [
    "## 2.2. Data Types"
   ]
  },
  {
   "cell_type": "code",
   "execution_count": 8,
   "id": "1b25df90",
   "metadata": {
    "ExecuteTime": {
     "end_time": "2023-01-17T23:40:18.347168Z",
     "start_time": "2023-01-17T23:40:18.331873Z"
    }
   },
   "outputs": [
    {
     "data": {
      "text/plain": [
       "uid           int64\n",
       "country      object\n",
       "gender       object\n",
       "spent         int64\n",
       "purchases     int64\n",
       "date         object\n",
       "group        object\n",
       "device       object\n",
       "dtype: object"
      ]
     },
     "execution_count": 8,
     "metadata": {},
     "output_type": "execute_result"
    }
   ],
   "source": [
    "df2.dtypes"
   ]
  },
  {
   "cell_type": "markdown",
   "id": "6bc5af22",
   "metadata": {},
   "source": [
    "## 2.3.  Check NA"
   ]
  },
  {
   "cell_type": "code",
   "execution_count": 9,
   "id": "1815b7c2",
   "metadata": {
    "ExecuteTime": {
     "end_time": "2023-01-17T23:40:18.362633Z",
     "start_time": "2023-01-17T23:40:18.348175Z"
    }
   },
   "outputs": [
    {
     "data": {
      "text/plain": [
       "uid          0\n",
       "country      0\n",
       "gender       0\n",
       "spent        0\n",
       "purchases    0\n",
       "date         0\n",
       "group        0\n",
       "device       0\n",
       "dtype: int64"
      ]
     },
     "execution_count": 9,
     "metadata": {},
     "output_type": "execute_result"
    }
   ],
   "source": [
    "df2.isna().sum()"
   ]
  },
  {
   "cell_type": "markdown",
   "id": "5ecc3ebf",
   "metadata": {},
   "source": [
    "## 2.4.  Check Duplicate Users"
   ]
  },
  {
   "cell_type": "code",
   "execution_count": 21,
   "id": "60419501",
   "metadata": {
    "ExecuteTime": {
     "end_time": "2023-01-18T00:24:20.154027Z",
     "start_time": "2023-01-18T00:24:20.065733Z"
    }
   },
   "outputs": [
    {
     "data": {
      "text/html": [
       "<div>\n",
       "<style scoped>\n",
       "    .dataframe tbody tr th:only-of-type {\n",
       "        vertical-align: middle;\n",
       "    }\n",
       "\n",
       "    .dataframe tbody tr th {\n",
       "        vertical-align: top;\n",
       "    }\n",
       "\n",
       "    .dataframe thead th {\n",
       "        text-align: right;\n",
       "    }\n",
       "</style>\n",
       "<table border=\"1\" class=\"dataframe\">\n",
       "  <thead>\n",
       "    <tr style=\"text-align: right;\">\n",
       "      <th></th>\n",
       "      <th>uid</th>\n",
       "      <th>group</th>\n",
       "    </tr>\n",
       "  </thead>\n",
       "  <tbody>\n",
       "  </tbody>\n",
       "</table>\n",
       "</div>"
      ],
      "text/plain": [
       "Empty DataFrame\n",
       "Columns: [uid, group]\n",
       "Index: []"
      ]
     },
     "execution_count": 21,
     "metadata": {},
     "output_type": "execute_result"
    }
   ],
   "source": [
    "# Number of duplicated users\n",
    "df2[['uid', 'group']].groupby( 'uid' ).count().reset_index().query( 'group > 1' )"
   ]
  },
  {
   "cell_type": "markdown",
   "id": "ee22844a",
   "metadata": {
    "ExecuteTime": {
     "end_time": "2023-01-16T23:44:35.198394Z",
     "start_time": "2023-01-16T23:44:35.185900Z"
    }
   },
   "source": [
    "## 2.5. Change dtypes"
   ]
  },
  {
   "cell_type": "code",
   "execution_count": 10,
   "id": "2d2129ca",
   "metadata": {
    "ExecuteTime": {
     "end_time": "2023-01-17T23:40:18.393385Z",
     "start_time": "2023-01-17T23:40:18.363634Z"
    }
   },
   "outputs": [],
   "source": [
    "df2['date'] = pd.to_datetime( df2['date'], yearfirst=True )"
   ]
  },
  {
   "cell_type": "code",
   "execution_count": 11,
   "id": "4c8de879",
   "metadata": {
    "ExecuteTime": {
     "end_time": "2023-01-17T23:40:18.409029Z",
     "start_time": "2023-01-17T23:40:18.393385Z"
    }
   },
   "outputs": [
    {
     "data": {
      "text/plain": [
       "uid                   int64\n",
       "country              object\n",
       "gender               object\n",
       "spent                 int64\n",
       "purchases             int64\n",
       "date         datetime64[ns]\n",
       "group                object\n",
       "device               object\n",
       "dtype: object"
      ]
     },
     "execution_count": 11,
     "metadata": {},
     "output_type": "execute_result"
    }
   ],
   "source": [
    "df2.dtypes"
   ]
  },
  {
   "cell_type": "code",
   "execution_count": 12,
   "id": "68b24ad2",
   "metadata": {
    "ExecuteTime": {
     "end_time": "2023-01-17T23:40:18.424564Z",
     "start_time": "2023-01-17T23:40:18.410030Z"
    }
   },
   "outputs": [
    {
     "data": {
      "text/plain": [
       "uid          0\n",
       "country      0\n",
       "gender       0\n",
       "spent        0\n",
       "purchases    0\n",
       "date         0\n",
       "group        0\n",
       "device       0\n",
       "dtype: int64"
      ]
     },
     "execution_count": 12,
     "metadata": {},
     "output_type": "execute_result"
    }
   ],
   "source": [
    "df2.isna().sum()"
   ]
  },
  {
   "cell_type": "markdown",
   "id": "bb57a3ef",
   "metadata": {},
   "source": [
    "## 2.6. Descriptive Statistics"
   ]
  },
  {
   "cell_type": "code",
   "execution_count": 13,
   "id": "84807caf",
   "metadata": {
    "ExecuteTime": {
     "end_time": "2023-01-17T23:40:18.440231Z",
     "start_time": "2023-01-17T23:40:18.425565Z"
    }
   },
   "outputs": [],
   "source": [
    "num_attributes = df2.select_dtypes(include=[\"int64\"])\n",
    "cat_attributes = df2.select_dtypes(exclude=[\"int64\", \"datetime64[ns]\"])"
   ]
  },
  {
   "cell_type": "markdown",
   "id": "a16b0f28",
   "metadata": {
    "heading_collapsed": true
   },
   "source": [
    "### 2.6.1. Numerical Attributes"
   ]
  },
  {
   "cell_type": "code",
   "execution_count": 14,
   "id": "3e65c697",
   "metadata": {
    "ExecuteTime": {
     "end_time": "2023-01-17T23:40:18.471310Z",
     "start_time": "2023-01-17T23:40:18.441230Z"
    },
    "hidden": true
   },
   "outputs": [
    {
     "data": {
      "text/html": [
       "<div>\n",
       "<style scoped>\n",
       "    .dataframe tbody tr th:only-of-type {\n",
       "        vertical-align: middle;\n",
       "    }\n",
       "\n",
       "    .dataframe tbody tr th {\n",
       "        vertical-align: top;\n",
       "    }\n",
       "\n",
       "    .dataframe thead th {\n",
       "        text-align: right;\n",
       "    }\n",
       "</style>\n",
       "<table border=\"1\" class=\"dataframe\">\n",
       "  <thead>\n",
       "    <tr style=\"text-align: right;\">\n",
       "      <th></th>\n",
       "      <th>attributes</th>\n",
       "      <th>min</th>\n",
       "      <th>max</th>\n",
       "      <th>range</th>\n",
       "      <th>mean</th>\n",
       "      <th>median</th>\n",
       "      <th>std</th>\n",
       "      <th>skew</th>\n",
       "      <th>kurtosis</th>\n",
       "    </tr>\n",
       "  </thead>\n",
       "  <tbody>\n",
       "    <tr>\n",
       "      <th>0</th>\n",
       "      <td>uid</td>\n",
       "      <td>11115722.0</td>\n",
       "      <td>99999383.0</td>\n",
       "      <td>88883661.0</td>\n",
       "      <td>5.544232e+07</td>\n",
       "      <td>55312026.0</td>\n",
       "      <td>2.558651e+07</td>\n",
       "      <td>0.007913</td>\n",
       "      <td>-1.190403</td>\n",
       "    </tr>\n",
       "    <tr>\n",
       "      <th>1</th>\n",
       "      <td>spent</td>\n",
       "      <td>99.0</td>\n",
       "      <td>12170.0</td>\n",
       "      <td>12071.0</td>\n",
       "      <td>1.883453e+03</td>\n",
       "      <td>1596.0</td>\n",
       "      <td>1.363907e+03</td>\n",
       "      <td>1.365817</td>\n",
       "      <td>2.627362</td>\n",
       "    </tr>\n",
       "    <tr>\n",
       "      <th>2</th>\n",
       "      <td>purchases</td>\n",
       "      <td>1.0</td>\n",
       "      <td>30.0</td>\n",
       "      <td>29.0</td>\n",
       "      <td>4.544385e+00</td>\n",
       "      <td>4.0</td>\n",
       "      <td>3.102420e+00</td>\n",
       "      <td>1.348301</td>\n",
       "      <td>2.562334</td>\n",
       "    </tr>\n",
       "  </tbody>\n",
       "</table>\n",
       "</div>"
      ],
      "text/plain": [
       "  attributes         min         max       range          mean      median           std      skew  kurtosis\n",
       "0        uid  11115722.0  99999383.0  88883661.0  5.544232e+07  55312026.0  2.558651e+07  0.007913 -1.190403\n",
       "1      spent        99.0     12170.0     12071.0  1.883453e+03      1596.0  1.363907e+03  1.365817  2.627362\n",
       "2  purchases         1.0        30.0        29.0  4.544385e+00         4.0  3.102420e+00  1.348301  2.562334"
      ]
     },
     "execution_count": 14,
     "metadata": {},
     "output_type": "execute_result"
    }
   ],
   "source": [
    "# central tendency\n",
    "_mean   = pd.DataFrame( num_attributes.apply( np.mean ) ).T\n",
    "_median = pd.DataFrame( num_attributes.apply( np.median ) ).T\n",
    "\n",
    "# dispersion\n",
    "_std   = pd.DataFrame( num_attributes.apply( np.std ) ).T\n",
    "_min   = pd.DataFrame( num_attributes.apply( np.min ) ).T\n",
    "_max   = pd.DataFrame( num_attributes.apply( np.max ) ).T\n",
    "_range = pd.DataFrame( num_attributes.apply( lambda x: x.max() - x.min() ) ).T\n",
    "_skew  = pd.DataFrame( num_attributes.apply( lambda x: x.skew() ) ).T\n",
    "_kurtosis  = pd.DataFrame( num_attributes.apply( lambda x: x.kurtosis() ) ).T\n",
    "\n",
    "# concatenate\n",
    "summary = pd.concat( [_min, _max, _range, _mean, _median, _std, _skew, _kurtosis] ).T.reset_index()\n",
    "summary.columns = ['attributes', 'min', 'max', 'range', 'mean', 'median', 'std', 'skew', 'kurtosis']\n",
    "summary"
   ]
  },
  {
   "cell_type": "markdown",
   "id": "faecbecf",
   "metadata": {
    "heading_collapsed": true
   },
   "source": [
    "### 2.6.2.  Categorical Attributes"
   ]
  },
  {
   "cell_type": "code",
   "execution_count": 15,
   "id": "2c4101be",
   "metadata": {
    "ExecuteTime": {
     "end_time": "2023-01-17T23:40:18.487371Z",
     "start_time": "2023-01-17T23:40:18.472309Z"
    },
    "hidden": true
   },
   "outputs": [
    {
     "data": {
      "text/plain": [
       "country    10\n",
       "gender      2\n",
       "group       2\n",
       "device      2\n",
       "dtype: int64"
      ]
     },
     "execution_count": 15,
     "metadata": {},
     "output_type": "execute_result"
    }
   ],
   "source": [
    "# Qtd. of unique attributes per feature\n",
    "cat_attributes.apply(lambda x: x.unique().shape[0])"
   ]
  },
  {
   "cell_type": "code",
   "execution_count": 16,
   "id": "a5d03382",
   "metadata": {
    "ExecuteTime": {
     "end_time": "2023-01-17T23:40:18.897290Z",
     "start_time": "2023-01-17T23:40:18.488374Z"
    },
    "hidden": true
   },
   "outputs": [
    {
     "data": {
      "image/png": "[encoded data removed]",
      "text/plain": [
       "<Figure size 1440x576 with 4 Axes>"
      ]
     },
     "metadata": {},
     "output_type": "display_data"
    }
   ],
   "source": [
    "fig, axes = plt.subplots(2,2)\n",
    "\n",
    "sns.countplot( x='country', data=cat_attributes, ax=axes[0,0] )\n",
    "sns.countplot( x='gender' , data=cat_attributes, ax=axes[0,1] )\n",
    "sns.countplot( x='group'  , data=cat_attributes, ax=axes[1,0] )\n",
    "sns.countplot( x='device' , data=cat_attributes, ax=axes[1,1] );"
   ]
  },
  {
   "cell_type": "markdown",
   "id": "469b8f31",
   "metadata": {
    "hidden": true
   },
   "source": [
    "* The dataset is well balanced for group, device and gender."
   ]
  },
  {
   "cell_type": "markdown",
   "id": "5a6a23e9",
   "metadata": {},
   "source": [
    "# 3. EDA"
   ]
  },
  {
   "cell_type": "code",
   "execution_count": 17,
   "id": "311053a7",
   "metadata": {
    "ExecuteTime": {
     "end_time": "2023-01-17T23:40:18.913606Z",
     "start_time": "2023-01-17T23:40:18.898305Z"
    }
   },
   "outputs": [],
   "source": [
    "df3 = df2.copy()"
   ]
  },
  {
   "cell_type": "markdown",
   "id": "bc3f85ff",
   "metadata": {},
   "source": [
    "## 3.1. Univariate Analysis"
   ]
  },
  {
   "cell_type": "code",
   "execution_count": 18,
   "id": "f553ecf6",
   "metadata": {
    "ExecuteTime": {
     "end_time": "2023-01-17T23:40:20.138459Z",
     "start_time": "2023-01-17T23:40:18.914615Z"
    }
   },
   "outputs": [
    {
     "data": {
      "image/png": "[encoded data removed]",
      "text/plain": [
       "<Figure size 1440x2160 with 8 Axes>"
      ]
     },
     "metadata": {},
     "output_type": "display_data"
    }
   ],
   "source": [
    "fig, axes = plt.subplots(4,2, figsize=(20,30))\n",
    "\n",
    "\n",
    "for i, col in enumerate(cat_attributes):\n",
    "    sns.boxplot(x=col,  y='spent'    , hue='group', data=df3, ax=axes[i,0] )\n",
    "    sns.boxplot(x=col,  y='purchases', hue='group', data=df3, ax=axes[i,1] )"
   ]
  },
  {
   "cell_type": "markdown",
   "id": "80ffc2bc",
   "metadata": {},
   "source": [
    "* The differences in distribution considering the groups A and B are minimum for the different categorical attributes.\n",
    "* It was not possible to indetify some behavior."
   ]
  },
  {
   "cell_type": "markdown",
   "id": "ab6cee61",
   "metadata": {
    "ExecuteTime": {
     "end_time": "2023-01-17T00:16:01.181401Z",
     "start_time": "2023-01-17T00:16:01.172887Z"
    }
   },
   "source": [
    "# 4. A/B Test"
   ]
  },
  {
   "cell_type": "code",
   "execution_count": 27,
   "id": "b07ac33d",
   "metadata": {
    "ExecuteTime": {
     "end_time": "2023-01-18T00:33:15.121275Z",
     "start_time": "2023-01-18T00:33:15.113816Z"
    }
   },
   "outputs": [],
   "source": [
    "df4 = df3.copy()"
   ]
  },
  {
   "cell_type": "markdown",
   "id": "8bf4dd0f",
   "metadata": {
    "ExecuteTime": {
     "end_time": "2023-01-18T00:40:59.032161Z",
     "start_time": "2023-01-18T00:40:59.023929Z"
    }
   },
   "source": [
    "## 4.1. Split Groups"
   ]
  },
  {
   "cell_type": "code",
   "execution_count": 29,
   "id": "22541b11",
   "metadata": {
    "ExecuteTime": {
     "end_time": "2023-01-18T00:34:34.624921Z",
     "start_time": "2023-01-18T00:34:34.600882Z"
    }
   },
   "outputs": [],
   "source": [
    "df_treatment = df4[df4['group'] == \"GRP A\"]\n",
    "df_control = df4[df4['group'] == \"GRP B\"]"
   ]
  },
  {
   "cell_type": "code",
   "execution_count": 38,
   "id": "fe17432a",
   "metadata": {
    "ExecuteTime": {
     "end_time": "2023-01-18T00:42:41.146514Z",
     "start_time": "2023-01-18T00:42:41.139003Z"
    }
   },
   "outputs": [
    {
     "name": "stdout",
     "output_type": "stream",
     "text": [
      "Number of samples for treatment: 23009\n",
      "Number of samples for control: 22874\n"
     ]
    }
   ],
   "source": [
    "print(\"Number of samples for treatment: {0}\".format(df_treatment.shape[0]))\n",
    "print(\"Number of samples for control: {0}\".format(df_control.shape[0]))"
   ]
  },
  {
   "cell_type": "markdown",
   "id": "0340a1c9",
   "metadata": {},
   "source": [
    "## 4.2. Experiment Parameters"
   ]
  },
  {
   "cell_type": "code",
   "execution_count": 74,
   "id": "9b469fc1",
   "metadata": {
    "ExecuteTime": {
     "end_time": "2023-01-18T01:23:59.984846Z",
     "start_time": "2023-01-18T01:23:59.976607Z"
    }
   },
   "outputs": [],
   "source": [
    "# confidence level\n",
    "conf_level = 0.95\n",
    "\n",
    "# significance level\n",
    "sig_level = 1 - conf_level\n",
    "\n",
    "# effect size\n",
    "p1 = df_treatment[\"purchases\"].tolist()\n",
    "p2 = df_control[\"purchases\"].tolist()\n",
    "\n",
    "eff_size = pg.compute_effsize(p2, p1, eftype='cohen')\n",
    "\n",
    "# Statistical power\n",
    "power = 0.8"
   ]
  },
  {
   "cell_type": "code",
   "execution_count": 75,
   "id": "1c5be1a8",
   "metadata": {
    "ExecuteTime": {
     "end_time": "2023-01-18T01:24:00.758469Z",
     "start_time": "2023-01-18T01:24:00.738121Z"
    }
   },
   "outputs": [
    {
     "name": "stdout",
     "output_type": "stream",
     "text": [
      "The sample size for the control and tratment group is 582479.\n",
      "The total sample size is 1164958.\n"
     ]
    }
   ],
   "source": [
    "# sample size\n",
    "\n",
    "\n",
    "\n",
    "sample_n = sms.NormalIndPower().solve_power(\n",
    "    effect_size=eff_size,\n",
    "    power=power,\n",
    "    alpha=sig_level\n",
    ")\n",
    "\n",
    "sample_n = math.ceil( sample_n )\n",
    "print( 'The sample size for the control and tratment group is {}.'.format(sample_n) )\n",
    "print( 'The total sample size is {}.'.format(2*sample_n) )"
   ]
  },
  {
   "cell_type": "markdown",
   "id": "5836a9c7",
   "metadata": {
    "ExecuteTime": {
     "end_time": "2023-01-18T01:23:13.849346Z",
     "start_time": "2023-01-18T01:23:13.845780Z"
    }
   },
   "source": [
    "* We don't have enough samples to continue the experiment, even with a lower power or confidence level."
   ]
  }
 ],
 "metadata": {
  "kernelspec": {
   "display_name": "Python 3 (ipykernel)",
   "language": "python",
   "name": "python3"
  },
  "language_info": {
   "codemirror_mode": {
    "name": "ipython",
    "version": 3
   },
   "file_extension": ".py",
   "mimetype": "text/x-python",
   "name": "python",
   "nbconvert_exporter": "python",
   "pygments_lexer": "ipython3",
   "version": "3.9.7"
  }
 },
 "nbformat": 4,
 "nbformat_minor": 5
}
